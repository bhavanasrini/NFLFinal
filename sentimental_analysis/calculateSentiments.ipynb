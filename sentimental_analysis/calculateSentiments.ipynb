{
 "cells": [
  {
   "cell_type": "code",
   "execution_count": null,
   "metadata": {
    "collapsed": true
   },
   "outputs": [],
   "source": [
    "def sentimentAnalysis(file1,file2):\n",
    "    sentences = []\n",
    "    tweets = []\n",
    "    out = open(file1,\"w\")\n",
    "    f = open(file2,\"r\",encoding = \"ISO-8859-1\" )\n",
    "    for line in f:\n",
    "        if(len(line.strip())>0):\n",
    "            text = ' '.join(re.sub(\"([^@#0-9A-Za-z\\t])|(\\w+:\\/\\/\\S+),\",\" \",line.split(\";\")[0]).split())\n",
    "            sentences.append(text)\n",
    "            tweets.append(line.split(\";\")[1].strip()+\";\"+re.sub('[,\\'\\\"]','',line.split(\";\")[2].strip()))\n",
    "    sid = SentimentIntensityAnalyzer()\n",
    "    for i in range(len(sentences)):\n",
    "        sentence = sentences[i]\n",
    "        ss = sid.polarity_scores(sentence)\n",
    "        tweet = \";\" +str(ss['compound'])\n",
    "        tweets[i] = tweets[i] + tweet + os.linesep\n",
    "    for tweet in tweets:   \n",
    "        out.write(tweet)\n",
    "    out.close()"
   ]
  }
 ],
 "metadata": {
  "kernelspec": {
   "display_name": "Python 3",
   "language": "python",
   "name": "python3"
  },
  "language_info": {
   "codemirror_mode": {
    "name": "ipython",
    "version": 3
   },
   "file_extension": ".py",
   "mimetype": "text/x-python",
   "name": "python",
   "nbconvert_exporter": "python",
   "pygments_lexer": "ipython3",
   "version": "3.6.3"
  }
 },
 "nbformat": 4,
 "nbformat_minor": 2
}
