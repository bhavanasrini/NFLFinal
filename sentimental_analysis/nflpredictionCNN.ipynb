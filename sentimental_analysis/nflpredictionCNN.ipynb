{
 "cells": [
  {
   "cell_type": "code",
   "execution_count": 109,
   "metadata": {
    "scrolled": false
   },
   "outputs": [
    {
     "name": "stdout",
     "output_type": "stream",
     "text": [
      "Loading data...\n",
      "(5, 2000, 3) (5,) (1, 2000, 3) (1,)\n",
      "Creating model...\n",
      "Compiling...\n",
      "_________________________________________________________________\n",
      "Layer (type)                 Output Shape              Param #   \n",
      "=================================================================\n",
      "conv1d_90 (Conv1D)           (None, 2000, 1)           4         \n",
      "_________________________________________________________________\n",
      "global_max_pooling1d_88 (Glo (None, 1)                 0         \n",
      "_________________________________________________________________\n",
      "dense_175 (Dense)            (None, 10)                20        \n",
      "_________________________________________________________________\n",
      "dropout_88 (Dropout)         (None, 10)                0         \n",
      "_________________________________________________________________\n",
      "activation_88 (Activation)   (None, 10)                0         \n",
      "_________________________________________________________________\n",
      "dense_176 (Dense)            (None, 1)                 11        \n",
      "=================================================================\n",
      "Total params: 35\n",
      "Trainable params: 35\n",
      "Non-trainable params: 0\n",
      "_________________________________________________________________\n",
      "None\n",
      "Fitting model...\n",
      "(5, 2000, 3) (5,)\n",
      "Prediction [[ 0.74710131]]\n"
     ]
    }
   ],
   "source": [
    "from keras.layers import Dense, Dropout, LSTM, Embedding,Conv1D,GlobalMaxPooling1D,Activation\n",
    "from keras.preprocessing.sequence import pad_sequences\n",
    "from keras.models import Sequential\n",
    "import pandas as pd\n",
    "import numpy as np\n",
    "from numpy import array\n",
    "import pickle\n",
    "input_folder = 'Datapickle'\n",
    "train = ['NPE_2ndW.pkl','NPE_3rdW.pkl','NPE_4thW.pkl','NPE_5thW.pkl','NPE_6thW.pkl']\n",
    "test = ['NPE_7thW.pkl']\n",
    "def load_data(test_split = 0.2):\n",
    "    X_train = []\n",
    "    Y_train = []\n",
    "    X_test = []\n",
    "    Y_test = []\n",
    "    print ('Loading data...')\n",
    "    for i in train:\n",
    "        file = open(input_folder+i,'rb')\n",
    "        f = pickle.load(file)\n",
    "        X_train.append(f[0][:2000])\n",
    "        Y_train.append(f[1])\n",
    "        file.close()\n",
    "    for i in test:\n",
    "        file = open(input_folder+i,'rb')\n",
    "        f = pickle.load(file)\n",
    "        X_test.append(f[0][:2000])\n",
    "        Y_test.append(f[1])\n",
    "        file.close()\n",
    "    X_train = array(X_train)\n",
    "    X_test = array(X_test)\n",
    "    Y_train = array(Y_train)\n",
    "    Y_test = array(Y_test)\n",
    "    print(X_train.shape,Y_train.shape,X_test.shape,Y_test.shape)\n",
    "    return X_train, Y_train, X_test, Y_test\n",
    "\n",
    "\n",
    "def create_model(input_length):\n",
    "    print ('Creating model...')\n",
    "    model = Sequential()\n",
    "    model.add(Conv1D(filters=1, kernel_size=1, padding='valid',input_shape =(2000,3)))\n",
    "    model.add(GlobalMaxPooling1D())\n",
    "    model.add(Dense(10, activation='sigmoid'))\n",
    "    model.add(Dropout(0.5))\n",
    "    model.add(Activation('relu'))\n",
    "    model.add(Dense(1, activation='sigmoid'))\n",
    "    print ('Compiling...')\n",
    "    model.compile(loss='binary_crossentropy',\n",
    "                  optimizer='rmsprop',\n",
    "                  metrics=['accuracy'])\n",
    "    print(model.summary())\n",
    "    return model\n",
    "\n",
    "X_train, Y_train, X_test, Y_test = load_data()\n",
    "model = create_model(len(X_train[0]))\n",
    "print ('Fitting model...')\n",
    "print(X_train.shape,Y_train.shape)\n",
    "hist = model.fit(X_train, Y_train, batch_size=1, epochs=200, validation_split = 0.1, verbose = 0)\n",
    "accuracy = model.predict(X_test,batch_size=1)\n",
    "print(\"Prediction\",accuracy)"
   ]
  },
  {
   "cell_type": "code",
   "execution_count": null,
   "metadata": {
    "collapsed": true
   },
   "outputs": [],
   "source": []
  },
  {
   "cell_type": "code",
   "execution_count": null,
   "metadata": {
    "collapsed": true
   },
   "outputs": [],
   "source": [
    "0.38532653,0.73375529,0.72294968, 0.66672659,0.74710131"
   ]
  }
 ],
 "metadata": {
  "kernelspec": {
   "display_name": "Python 3",
   "language": "python",
   "name": "python3"
  },
  "language_info": {
   "codemirror_mode": {
    "name": "ipython",
    "version": 3
   },
   "file_extension": ".py",
   "mimetype": "text/x-python",
   "name": "python",
   "nbconvert_exporter": "python",
   "pygments_lexer": "ipython3",
   "version": "3.6.3"
  }
 },
 "nbformat": 4,
 "nbformat_minor": 2
}
