{
 "cells": [
  {
   "cell_type": "code",
   "execution_count": null,
   "metadata": {
    "collapsed": true
   },
   "outputs": [],
   "source": [
    "from nltk.sentiment.vader import SentimentIntensityAnalyzer\n",
    "import os\n",
    "import re\n",
    "# Cleaning up the data by removing noise\n",
    "def process(filename1,filename2):\n",
    "    #out = open(\"/Users/vijaybhavana/Desktop/DS_Project/Processed/Denverbroncos_9thweek_12_Nov.csv\",\"w\")\n",
    "    out = open(filename1,\"w\",encoding = \"ISO-8859-1\" )\n",
    "    #f = open(\"/Users/vijaybhavana/Desktop/DS_Project/Denverbroncos_9thweek_12_Nov.csv\",\"r\")\n",
    "    f = open(filename2,\"r\",encoding = \"ISO-8859-1\" )\n",
    "    for line in f:\n",
    "        values = line.split(\";\")\n",
    "        text = values[4]\n",
    "        retweets = values[2]\n",
    "        fav = values[3]\n",
    "        newline = text+\";\"+retweets+\";\"+fav+os.linesep\n",
    "        out.write(newline)"
   ]
  }
 ],
 "metadata": {
  "kernelspec": {
   "display_name": "Python 3",
   "language": "python",
   "name": "python3"
  },
  "language_info": {
   "codemirror_mode": {
    "name": "ipython",
    "version": 3
   },
   "file_extension": ".py",
   "mimetype": "text/x-python",
   "name": "python",
   "nbconvert_exporter": "python",
   "pygments_lexer": "ipython3",
   "version": "3.6.3"
  }
 },
 "nbformat": 4,
 "nbformat_minor": 2
}
