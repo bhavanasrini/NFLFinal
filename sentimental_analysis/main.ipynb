{
 "cells": [
  {
   "cell_type": "code",
   "execution_count": 488,
   "metadata": {
    "collapsed": true,
    "scrolled": true
   },
   "outputs": [],
   "source": [
    "def main():\n",
    "    process(\"Processed/NPE_7thWeek_Processed.csv\",\"New England Patriots/Process/NPE_7thWeek.csv\") \n",
    "    sentimentAnalysis(\"Traindata/NPE_7thW_sentiments.csv\",\"Processed/NPE_7thWeek_Processed.csv\")\n",
    "    pickleData(\"Data_pickle/NPE_7thW.pkl\",\"Traindata/NPE_7thW_sentiments.csv\")\n",
    "if __name__ == \"__main__\":\n",
    "    main()\n"
   ]
  }
 ],
 "metadata": {
  "kernelspec": {
   "display_name": "Python 3",
   "language": "python",
   "name": "python3"
  },
  "language_info": {
   "codemirror_mode": {
    "name": "ipython",
    "version": 3
   },
   "file_extension": ".py",
   "mimetype": "text/x-python",
   "name": "python",
   "nbconvert_exporter": "python",
   "pygments_lexer": "ipython3",
   "version": "3.6.3"
  }
 },
 "nbformat": 4,
 "nbformat_minor": 2
}
