{
 "cells": [
  {
   "cell_type": "code",
   "execution_count": null,
   "metadata": {
    "collapsed": true
   },
   "outputs": [],
   "source": [
    "import pickle\n",
    "def pickleData(file1,file2):\n",
    "    #with open(\"/Users/vijaybhavana/Desktop/DS_Project/Data_pickle/DB_9thweek.pkl\",\"wb\") as f:\n",
    "    with open(file1,\"wb\") as f:\n",
    "        #inp = open(\"/Users/vijaybhavana/Desktop/DS_Project/TrainData/DenverBroncos_9th.csv\",\"r\")\n",
    "        inp = open(file2,\"r\")\n",
    "        next(inp)\n",
    "        result = []\n",
    "        values = []\n",
    "        for line in inp:\n",
    "            value = []\n",
    "            value.append(line.split(';')[0])\n",
    "            value.append(line.split(';')[1])\n",
    "            value.append(line.split(';')[2].strip('\\n'))\n",
    "            values.append((value))\n",
    "        # Minimum number of rows are taken!\n",
    "        result.append(values[:2000])\n",
    "        # Loss or Win\n",
    "        result.append(1)\n",
    "        pickle.dump(result,f)"
   ]
  }
 ],
 "metadata": {
  "kernelspec": {
   "display_name": "Python 3",
   "language": "python",
   "name": "python3"
  },
  "language_info": {
   "codemirror_mode": {
    "name": "ipython",
    "version": 3
   },
   "file_extension": ".py",
   "mimetype": "text/x-python",
   "name": "python",
   "nbconvert_exporter": "python",
   "pygments_lexer": "ipython3",
   "version": "3.6.3"
  }
 },
 "nbformat": 4,
 "nbformat_minor": 2
}
